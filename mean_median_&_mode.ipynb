{
  "nbformat": 4,
  "nbformat_minor": 0,
  "metadata": {
    "colab": {
      "name": "mean_median_&_mode",
      "provenance": [],
      "collapsed_sections": [],
      "toc_visible": true,
      "mount_file_id": "1jMim4XbD8RPy-t_KvcXqGhD5E3iLK68Q",
      "authorship_tag": "ABX9TyOJMEnLf4tz6I6dK88P5xVS",
      "include_colab_link": true
    },
    "kernelspec": {
      "name": "python3",
      "display_name": "Python 3"
    },
    "accelerator": "TPU"
  },
  "cells": [
    {
      "cell_type": "markdown",
      "metadata": {
        "id": "view-in-github",
        "colab_type": "text"
      },
      "source": [
        "<a href=\"https://colab.research.google.com/github/xaviranik/machine_learning_practices/blob/master/mean_median_%26_mode.ipynb\" target=\"_parent\"><img src=\"https://colab.research.google.com/assets/colab-badge.svg\" alt=\"Open In Colab\"/></a>"
      ]
    },
    {
      "cell_type": "code",
      "metadata": {
        "id": "LTlSKLgwYC-e",
        "colab_type": "code",
        "outputId": "af4c8be2-fa95-4654-f740-2a263bf7786a",
        "colab": {
          "base_uri": "https://localhost:8080/",
          "height": 72
        }
      },
      "source": [
        "import numpy\n",
        "from scipy import stats\n",
        "\n",
        "height = [99,86,87,88,111,86,103,87,94,78,77,85,86,86]\n",
        "\n",
        "print(\"Mean: \" + str(numpy.mean(height)))\n",
        "print(\"Median: \" + str(numpy.median(height)))\n",
        "print(\"Mode: \" + str(stats.mode(height)))"
      ],
      "execution_count": 0,
      "outputs": [
        {
          "output_type": "stream",
          "text": [
            "Mean: 89.5\n",
            "Median: 86.5\n",
            "Mode: ModeResult(mode=array([86]), count=array([4]))\n"
          ],
          "name": "stdout"
        }
      ]
    }
  ]
}