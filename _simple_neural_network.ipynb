{
 "cells": [
  {
   "cell_type": "code",
   "execution_count": 12,
   "metadata": {},
   "outputs": [],
   "source": [
    "import numpy as np"
   ]
  },
  {
   "cell_type": "markdown",
   "metadata": {},
   "source": [
    "## Sigmoid functions"
   ]
  },
  {
   "cell_type": "code",
   "execution_count": 13,
   "metadata": {},
   "outputs": [],
   "source": [
    "def sigmoid(x):\n",
    "    return 1 / (1 + np.exp(-x))\n",
    "\n",
    "\n",
    "def sigmoid_derivative(x):\n",
    "    return x * (1 - x)"
   ]
  },
  {
   "cell_type": "markdown",
   "metadata": {},
   "source": [
    "## Output/Input data, Synaptic weights"
   ]
  },
  {
   "cell_type": "code",
   "execution_count": 14,
   "metadata": {},
   "outputs": [],
   "source": [
    "inp = [[0, 0, 1],\n",
    "       [1, 1, 1],\n",
    "       [1, 0, 0],\n",
    "       [0, 1, 1]]\n",
    "\n",
    "out = [[1, 1, 0, 1]]\n",
    "\n",
    "training_inputs = np.array(inp)\n",
    "training_outputs = np.array(out).T\n",
    "outputs = []\n",
    "\n",
    "np.random.seed(1)\n",
    "\n",
    "synaptic_weights = 2 * np.random.random((3, 1)) - 1"
   ]
  },
  {
   "cell_type": "code",
   "execution_count": 15,
   "metadata": {},
   "outputs": [
    {
     "name": "stdout",
     "output_type": "stream",
     "text": [
      "Synaptic Weights: \n",
      "[[-0.16595599]\n",
      " [ 0.44064899]\n",
      " [-0.99977125]]\n"
     ]
    }
   ],
   "source": [
    "print(\"Synaptic Weights: \")\n",
    "print(synaptic_weights)"
   ]
  },
  {
   "cell_type": "markdown",
   "metadata": {},
   "source": [
    "## Training"
   ]
  },
  {
   "cell_type": "code",
   "execution_count": 16,
   "metadata": {},
   "outputs": [],
   "source": [
    "number_of_epoch = 10000"
   ]
  },
  {
   "cell_type": "code",
   "execution_count": 17,
   "metadata": {},
   "outputs": [],
   "source": [
    "for i in range(number_of_epoch):\n",
    "    input_layer = training_inputs\n",
    "    outputs = sigmoid(np.dot(input_layer, synaptic_weights))\n",
    "    errors = training_outputs - outputs\n",
    "    adjustments = errors * sigmoid_derivative(outputs)\n",
    "    synaptic_weights += np.dot(input_layer.T, adjustments)"
   ]
  },
  {
   "cell_type": "code",
   "execution_count": 18,
   "metadata": {},
   "outputs": [
    {
     "name": "stdout",
     "output_type": "stream",
     "text": [
      "Synaptic weights after training: \n",
      "[[-4.62053753]\n",
      " [ 4.02589431]\n",
      " [ 5.60578902]]\n"
     ]
    }
   ],
   "source": [
    "print(\"Synaptic weights after training: \")\n",
    "print(synaptic_weights)"
   ]
  },
  {
   "cell_type": "code",
   "execution_count": 19,
   "metadata": {},
   "outputs": [
    {
     "name": "stdout",
     "output_type": "stream",
     "text": [
      "Outputs: \n",
      "[[0.99633674]\n",
      " [0.99338051]\n",
      " [0.00975196]\n",
      " [0.99993438]]\n"
     ]
    }
   ],
   "source": [
    "print(\"Outputs: \")\n",
    "print(outputs)"
   ]
  },
  {
   "cell_type": "markdown",
   "metadata": {},
   "source": [
    "## Creating our own neural network class"
   ]
  },
  {
   "cell_type": "code",
   "execution_count": 27,
   "metadata": {},
   "outputs": [],
   "source": [
    "import numpy as np\n",
    "class NeuralNetwork:\n",
    "    def __init__(self):\n",
    "        np.random.seed(1)\n",
    "        self.synaptic_weights  = 2 * np.random.random((3,1)) - 1\n",
    "        \n",
    "        \n",
    "    def sigmoid(self, x):\n",
    "        return 1 / (1 + np.exp(-x))\n",
    "    \n",
    "    \n",
    "    def sigmoid_derivative(self, x):\n",
    "        return x * (1 - x)\n",
    "    \n",
    "    \n",
    "    def train(self, training_inputs, training_outputs, n_epoch):\n",
    "        for i in range(n_epoch):\n",
    "            output = self.fit(training_inputs)\n",
    "            error = training_outputs - output\n",
    "            adjustments = np.dot(training_inputs.T, error * self.sigmoid_derivative(output))\n",
    "            self.synaptic_weights += adjustments\n",
    "            \n",
    "            \n",
    "    def fit(self, inputs):\n",
    "        inputs = inputs.astype(float)\n",
    "        return self.sigmoid(np.dot(inputs, self.synaptic_weights))"
   ]
  },
  {
   "cell_type": "code",
   "execution_count": 28,
   "metadata": {},
   "outputs": [
    {
     "name": "stdout",
     "output_type": "stream",
     "text": [
      "Synaptic weights before taining: \n",
      "[[-0.16595599]\n",
      " [ 0.44064899]\n",
      " [-0.99977125]]\n"
     ]
    }
   ],
   "source": [
    "net = NeuralNetwork()\n",
    "print('Synaptic weights before taining: ')\n",
    "print(net.synaptic_weights)"
   ]
  },
  {
   "cell_type": "code",
   "execution_count": 37,
   "metadata": {},
   "outputs": [],
   "source": [
    "inp = [[0, 0, 1],\n",
    "       [1, 1, 1],\n",
    "       [1, 0, 0],\n",
    "       [0, 1, 1]]\n",
    "\n",
    "out = [[1, 1, 0, 1]]\n",
    "\n",
    "training_inputs = np.array(inp)\n",
    "training_outputs = np.array(out).T\n",
    "\n",
    "net.train(training_inputs, training_outputs, 10000)"
   ]
  },
  {
   "cell_type": "code",
   "execution_count": 38,
   "metadata": {},
   "outputs": [
    {
     "name": "stdout",
     "output_type": "stream",
     "text": [
      "Synaptic weights after taining: \n",
      "[[-5.52270839]\n",
      " [ 4.81477511]\n",
      " [ 6.60990548]]\n"
     ]
    }
   ],
   "source": [
    "print('Synaptic weights after taining: ')\n",
    "print(net.synaptic_weights)"
   ]
  },
  {
   "cell_type": "code",
   "execution_count": 36,
   "metadata": {},
   "outputs": [
    {
     "name": "stdin",
     "output_type": "stream",
     "text": [
      "Test data:  0 1 0\n"
     ]
    },
    {
     "name": "stdout",
     "output_type": "stream",
     "text": [
      "Your Input data is: [['0' '1' '0']]\n"
     ]
    }
   ],
   "source": [
    "test_data = np.array([input(\"Test data: \").split()])\n",
    "print('Your Input data is: ' + str(test_data))"
   ]
  },
  {
   "cell_type": "code",
   "execution_count": 39,
   "metadata": {},
   "outputs": [
    {
     "name": "stdout",
     "output_type": "stream",
     "text": [
      "[[0.99195618]]\n"
     ]
    }
   ],
   "source": [
    "print(net.fit(test_data))"
   ]
  },
  {
   "cell_type": "code",
   "execution_count": null,
   "metadata": {},
   "outputs": [],
   "source": []
  }
 ],
 "metadata": {
  "kernelspec": {
   "display_name": "Python 3",
   "language": "python",
   "name": "python3"
  },
  "language_info": {
   "codemirror_mode": {
    "name": "ipython",
    "version": 3
   },
   "file_extension": ".py",
   "mimetype": "text/x-python",
   "name": "python",
   "nbconvert_exporter": "python",
   "pygments_lexer": "ipython3",
   "version": "3.7.4"
  }
 },
 "nbformat": 4,
 "nbformat_minor": 4
}
